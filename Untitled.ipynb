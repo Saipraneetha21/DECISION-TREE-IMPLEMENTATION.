{
 "cells": [
  {
   "cell_type": "code",
   "execution_count": null,
   "id": "f3b39762-4256-4ac0-ac16-a4190ce08bf0",
   "metadata": {},
   "outputs": [],
   "source": [
    "print(\"hello World!\")"
   ]
  },
  {
   "cell_type": "code",
   "execution_count": null,
   "id": "8a8b91d8-a905-4697-bf80-1c4c9f5256b4",
   "metadata": {},
   "outputs": [],
   "source": []
  }
 ],
 "metadata": {
  "kernelspec": {
   "display_name": "Python 3 (ipykernel)",
   "language": "python",
   "name": "python3"
  },
  "language_info": {
   "codemirror_mode": {
    "name": "ipython",
    "version": 3
   },
   "file_extension": ".py",
   "mimetype": "text/x-python",
   "name": "python",
   "nbconvert_exporter": "python",
   "pygments_lexer": "ipython3",
   "version": "3.12.3"
  }
 },
 "nbformat": 4,
 "nbformat_minor": 5
}
